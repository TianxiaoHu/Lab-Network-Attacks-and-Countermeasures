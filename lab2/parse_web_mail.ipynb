{
 "cells": [
  {
   "cell_type": "code",
   "execution_count": null,
   "metadata": {},
   "outputs": [],
   "source": [
    "info = \"returnInfo=true&composeId=1509601182458&content=meow-meow-meow%21%3Cbr%3E%3Cbr%3E%3Cbr%3E%3Cspan%3E--%3Cbr%3E%3Cpre+style%3D%22word-wrap%3A+break-word%22%3E%E8%83%A1%E5%A4%A9%E6%99%93%3Cbr%3ETianxiao+Hu%3Cbr%3ETel%EF%BC%9A151+2103+8750%3Cbr%3EMail%3A%3Ca+href%3D%22mailto%3A14300240007%40fudan.edu.cn%22+target%3D%22_blank%22%3E14300240007%40fudan.edu.cn%3C%2Fa%3E%3Cbr%3E%E5%A4%8D%E6%97%A6%E5%A4%A7%E5%AD%A6%E8%AE%A1%E7%AE%97%E6%9C%BA%E7%A7%91%E5%AD%A6%E6%8A%80%E6%9C%AF%E5%AD%A6%E9%99%A214%E7%BA%A7%E6%9C%AC%E7%A7%91%E7%94%9F%0D%0AUndergraduate+%40School+of+Computer+Science%2C+Fudan+University%2C+P.R.China+%0D%0A%E4%B8%8A%E6%B5%B7%E5%B8%82%E6%B5%A6%E4%B8%9C%E6%96%B0%E5%8C%BA%E8%94%A1%E4%BC%A6%E8%B7%AF1159%E5%8F%B7%EF%BC%8C%E5%A4%8D%E6%97%A6%E5%A4%A7%E5%AD%A6%EF%BC%8C201203+%0D%0ANo.1159%2C+Cailun+Road%2C+Zhangjiang+Hi-Tech+Park%2C+Pudong+New+District%2C+Shanghai%2C+201203%3Cbr%3E%3C%2Fpre%3E%3C%2Fspan%3E%3Cbr%3E%3Cbr%3E%0D%0A%0D%0A%0D%0A&isHtml=true&priority=3&saveSentCopy=true&requestReadReceipt=false&uploadMode=normal&lettercontent=&supportAutoNormal2Trs=false&isSchedule=false&isSource=false&sendMailWithSms=false&sendMailWithSmsMode=&smimeEncrypt=false&smimeSign=false&showOneRcpt=false&autosaveHitCounter=false&account=%22%E8%83%A1%E5%A4%A9%E6%99%93%22+%3C14300240007%40fudan.edu.cn%3E&to=%22%E6%88%91%E8%87%AA%E5%B7%B1%22+%3C14300240007%40fudan.edu.cn%3E&smsAddrs=&cc=&bcc=&subject=test+mail&attachment=1&attachment_1_security_level=0&attachment_1_type=upload&attachment_1_displayName=space.jpg&attachment_1_deleted=false&attachment_1_size=1101687&btnAddAttach=0&btnCreateImg=0&signSet=0&chkSaveToSent=on&year=2017&month=11&day=3&hour=13\""
   ]
  },
  {
   "cell_type": "code",
   "execution_count": null,
   "metadata": {},
   "outputs": [],
   "source": [
    "info = info.split(\"&\")"
   ]
  },
  {
   "cell_type": "code",
   "execution_count": null,
   "metadata": {},
   "outputs": [],
   "source": [
    "import urllib"
   ]
  },
  {
   "cell_type": "code",
   "execution_count": null,
   "metadata": {},
   "outputs": [],
   "source": [
    "for attribute in info:\n",
    "    (attribute_name, attribute_content) = attribute.split(\"=\")\n",
    "    print attribute_name, \":\", urllib.unquote(attribute_content)"
   ]
  }
 ],
 "metadata": {
  "kernelspec": {
   "display_name": "Python [conda root]",
   "language": "python",
   "name": "conda-root-py"
  },
  "language_info": {
   "codemirror_mode": {
    "name": "ipython",
    "version": 2
   },
   "file_extension": ".py",
   "mimetype": "text/x-python",
   "name": "python",
   "nbconvert_exporter": "python",
   "pygments_lexer": "ipython2"
  }
 },
 "nbformat": 4,
 "nbformat_minor": 2
}
