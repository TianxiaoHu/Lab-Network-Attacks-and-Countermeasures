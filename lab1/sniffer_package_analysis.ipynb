{
 "cells": [
  {
   "cell_type": "code",
   "execution_count": null,
   "metadata": {},
   "outputs": [],
   "source": [
    "%matplotlib inline\n",
    "%config InlineBackend.figure_format = 'retina'\n",
    "import pyshark\n",
    "import numpy as np\n",
    "import pandas as pd\n",
    "import matplotlib.pyplot as plt\n",
    "import seaborn\n",
    "from progressbar import *  "
   ]
  },
  {
   "cell_type": "code",
   "execution_count": null,
   "metadata": {},
   "outputs": [],
   "source": [
    "cap = pyshark.FileCapture(\"p1p1.17.ip.56.pcap\")"
   ]
  },
  {
   "cell_type": "markdown",
   "metadata": {},
   "source": [
    "# 服务数量统计"
   ]
  },
  {
   "cell_type": "code",
   "execution_count": null,
   "metadata": {},
   "outputs": [],
   "source": [
    "packet_num = 0\n",
    "record = []"
   ]
  },
  {
   "cell_type": "code",
   "execution_count": null,
   "metadata": {},
   "outputs": [],
   "source": [
    "def find_services(packet):\n",
    "    global packet_num\n",
    "    packet_num += 1\n",
    "    if int(packet.tcp.flags_syn) == 1 and int(packet.tcp.flags_ack) == 0:\n",
    "        service = str(packet.ip.dst) + \":\" + str(packet.tcp.dstport)\n",
    "        if service in record:\n",
    "            pass\n",
    "        else:\n",
    "            record.append(service)\n",
    "            print \"New service found:\", service"
   ]
  },
  {
   "cell_type": "code",
   "execution_count": null,
   "metadata": {},
   "outputs": [],
   "source": [
    "cap.apply_on_packets(find_services)"
   ]
  },
  {
   "cell_type": "markdown",
   "metadata": {},
   "source": [
    "# TCP请求统计"
   ]
  },
  {
   "cell_type": "code",
   "execution_count": null,
   "metadata": {},
   "outputs": [],
   "source": [
    "services = {}\n",
    "for service in record:\n",
    "    services[service] = {}\n",
    "    services[service][\"syn\"] = 1\n",
    "    services[service][\"links\"] = {}\n",
    "    services[service][\"complete_link\"] = 0\n",
    "    services[service][\"half_link\"] = 0"
   ]
  },
  {
   "cell_type": "code",
   "execution_count": null,
   "metadata": {},
   "outputs": [],
   "source": [
    "widgets = ['Processing: ', Percentage(), ' ', Bar(marker='#',left='[',right=']'),\n",
    "           ' ', ETA()] \n",
    "\n",
    "pbar = ProgressBar(widgets=widgets, maxval=packet_num+1)\n",
    "pbar.start()\n",
    "\n",
    "count = 0\n",
    "\n",
    "for pkt in cap:\n",
    "    \n",
    "    count += 1\n",
    "\n",
    "    src = str(pkt.ip.src) + \":\" + str(pkt.tcp.srcport)\n",
    "    dst = str(pkt.ip.dst) + \":\" + str(pkt.tcp.dstport)\n",
    "\n",
    "    if (int(pkt.tcp.flags_syn) == 1) and (int(pkt.tcp.flags_ack) == 0):\n",
    "        if dst in services.keys():\n",
    "            services[dst][\"syn\"] += 1\n",
    "            if (src in services[dst][\"links\"]):\n",
    "                if (services[dst][\"links\"][src]):\n",
    "                    services[dst][\"half_link\"] += 1\n",
    "            services[dst][\"links\"][src] = False\n",
    "\n",
    "    if (int(pkt.tcp.flags_syn) == 1) and (int(pkt.tcp.flags_ack) == 1):\n",
    "        services[src][\"links\"][dst] = True\n",
    "\n",
    "    if (int(pkt.tcp.flags_syn) == 0) and (int(pkt.tcp.flags_ack) == 1):\n",
    "        if (dst in services.keys()):\n",
    "            if (src in services[dst][\"links\"]):\n",
    "                if (services[dst][\"links\"][src]):\n",
    "                    services[dst][\"complete_link\"] += 1\n",
    "                    del services[dst][\"links\"][src]\n",
    "                    \n",
    "pbar.finish()"
   ]
  },
  {
   "cell_type": "code",
   "execution_count": null,
   "metadata": {},
   "outputs": [],
   "source": [
    "for service in services:\n",
    "    print \"Service:\", service\n",
    "    print \"#Syn:\", services[service][\"syn\"]\n",
    "    print \"#TCP-Connection:\", services[service][\"complete_link\"]\n",
    "    print \"#Half-Connection:\", str(len(services[service][\"links\"]) + services[service][\"half_link\"])  "
   ]
  },
  {
   "cell_type": "markdown",
   "metadata": {},
   "source": [
    "# 重传率统计"
   ]
  },
  {
   "cell_type": "code",
   "execution_count": null,
   "metadata": {},
   "outputs": [],
   "source": [
    "services = {}\n",
    "for service in record:\n",
    "    services[service] = {}\n",
    "    services[service][\"retrans\"] = 0\n",
    "    services[service][\"total\"] = 0    "
   ]
  },
  {
   "cell_type": "code",
   "execution_count": null,
   "metadata": {},
   "outputs": [],
   "source": [
    "widgets = ['Processing: ', Percentage(), ' ', Bar(marker='#',left='[',right=']'),\n",
    "           ' ', ETA()] \n",
    "\n",
    "pbar = ProgressBar(widgets=widgets, maxval=packet_num+1)\n",
    "pbar.start()\n",
    "\n",
    "count = 0\n",
    "for pkt in cap:\n",
    "    \n",
    "    count += 1\n",
    "\n",
    "    src = str(pkt.ip.src) + \":\" + str(pkt.tcp.srcport)\n",
    "    dst = str(pkt.ip.dst) + \":\" + str(pkt.tcp.dstport)\n",
    "\n",
    "    if (pkt.tcp.get('analysis_retransmission')):\n",
    "        if src in services.keys():\n",
    "            services[src][\"retrans\"] += 1\n",
    "        else:\n",
    "            services[dst][\"retrans\"] += 1\n",
    "            \n",
    "    if (src in services.keys()):\n",
    "        services[src][\"total\"] += 1\n",
    "    else:\n",
    "        services[dst][\"total\"] += 1\n",
    "\n",
    "pbar.finish()"
   ]
  },
  {
   "cell_type": "code",
   "execution_count": null,
   "metadata": {},
   "outputs": [],
   "source": [
    "for service in record:\n",
    "    print \"Service:\", service\n",
    "    print \"#Retransmission\", services[service][\"retrans\"]\n",
    "    print \"Retransmission %:\", float(services[service][\"retrans\"]) / services[service][\"total\"]"
   ]
  },
  {
   "attachments": {},
   "cell_type": "markdown",
   "metadata": {},
   "source": [
    "# TCP链接重置请求统计"
   ]
  },
  {
   "cell_type": "code",
   "execution_count": null,
   "metadata": {},
   "outputs": [],
   "source": [
    "services = {}\n",
    "for service in record:\n",
    "    services[service] = {}\n",
    "    services[service][\"reset_client\"] = 0\n",
    "    services[service][\"reset_server\"] = 0"
   ]
  },
  {
   "cell_type": "code",
   "execution_count": null,
   "metadata": {},
   "outputs": [],
   "source": [
    "widgets = ['Processing: ', Percentage(), ' ', Bar(marker='#',left='[',right=']'),\n",
    "           ' ', ETA()] \n",
    "\n",
    "pbar = ProgressBar(widgets=widgets, maxval=packet_num+1)\n",
    "pbar.start()\n",
    "\n",
    "count = 0\n",
    "\n",
    "for pkt in cap:\n",
    "    \n",
    "    count += 1\n",
    "\n",
    "    src = str(pkt.ip.src) + \":\" + str(pkt.tcp.srcport)\n",
    "    dst = str(pkt.ip.dst) + \":\" + str(pkt.tcp.dstport)\n",
    "\n",
    "    if (int(pkt.tcp.flags_reset) == 1):\n",
    "        if src in services.keys():\n",
    "            services[src][\"reset_server\"] += 1\n",
    "        else:\n",
    "            services[dst][\"reset_client\"] += 1\n",
    "            \n",
    "pbar.finish()"
   ]
  },
  {
   "cell_type": "code",
   "execution_count": null,
   "metadata": {},
   "outputs": [],
   "source": [
    "for service in record:\n",
    "    print \"Service:\", service\n",
    "    print \"#Reset:Client\", services[service][\"reset_client\"]\n",
    "    print \"#Reset:Server\", services[service][\"reset_server\"]"
   ]
  },
  {
   "cell_type": "markdown",
   "metadata": {},
   "source": [
    "# 流量统计"
   ]
  },
  {
   "cell_type": "code",
   "execution_count": null,
   "metadata": {},
   "outputs": [],
   "source": [
    "flow = []"
   ]
  },
  {
   "cell_type": "code",
   "execution_count": null,
   "metadata": {},
   "outputs": [],
   "source": [
    "widgets = ['Processing: ', Percentage(), ' ', Bar(marker='#',left='[',right=']'),\n",
    "           ' ', ETA()] \n",
    "\n",
    "pbar = ProgressBar(widgets=widgets, maxval=packet_num+1)\n",
    "pbar.start()\n",
    "\n",
    "count = 0\n",
    "\n",
    "for pkt in cap:\n",
    "    flow.append((pkt.sniff_time, pkt.length))\n",
    "    count += 1\n",
    "    pbar.update(count)\n",
    "    \n",
    "pbar.finish()"
   ]
  },
  {
   "cell_type": "code",
   "execution_count": null,
   "metadata": {},
   "outputs": [],
   "source": [
    "flow = pd.Series(index=map(lambda x: x[0], flow), data=map(lambda x: float(x[1]), flow))"
   ]
  },
  {
   "cell_type": "code",
   "execution_count": null,
   "metadata": {},
   "outputs": [],
   "source": [
    "stat = flow.resample(\"300s\").sum()"
   ]
  },
  {
   "cell_type": "code",
   "execution_count": null,
   "metadata": {},
   "outputs": [],
   "source": [
    "plt.figure(figsize=(16, 5))\n",
    "plt.plot(stat)\n",
    "plt.plot(stat, 'o', color=\"purple\")"
   ]
  }
 ],
 "metadata": {
  "kernelspec": {
   "display_name": "Python [default]",
   "language": "python",
   "name": "python2"
  },
  "language_info": {
   "codemirror_mode": {
    "name": "ipython",
    "version": 2
   },
   "file_extension": ".py",
   "mimetype": "text/x-python",
   "name": "python",
   "nbconvert_exporter": "python",
   "pygments_lexer": "ipython2"
  }
 },
 "nbformat": 4,
 "nbformat_minor": 2
}
